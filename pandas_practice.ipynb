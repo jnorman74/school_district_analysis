version https://git-lfs.github.com/spec/v1
oid sha256:13ec2b97d5dcfe2a318eaf45f9f7bead3eaa0cefd1f2c2e905b655f02d9bb87e
size 17653
