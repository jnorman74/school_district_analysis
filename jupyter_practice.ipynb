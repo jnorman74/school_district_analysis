version https://git-lfs.github.com/spec/v1
oid sha256:9f47c47644951c212cbcf2344818660a44dcdf0e914a5c47fc7c3b29c6921e26
size 566
